{
 "cells": [
  {
   "cell_type": "markdown",
   "id": "a800bdf8-7037-48c4-b8f5-d53a5d39fa74",
   "metadata": {},
   "source": [
    "# Physics 201 Test Notebook\n",
    "\n",
    "Authors: Vinothan N. Manoharan, with contributions from Solomon Barkley."
   ]
  },
  {
   "cell_type": "markdown",
   "id": "917a8a0d-d7b7-468d-a8f9-42dd6bc3095c",
   "metadata": {},
   "source": [
    "## Introduction\n",
    "\n",
    "Once you've followed our instructions to install python and the packages you need for the course, you can execute the cells in this notebook to test whether your installation is working.  Make sure you run all the cells in order.  Also make sure you are running the notebook in the python environment you set up specifically for Physics 201.\n",
    "\n",
    "Don't worry if you don't understand what the code does&mdash;at this stage, you're not expected to. You will learn it all by the end of the course!"
   ]
  },
  {
   "cell_type": "markdown",
   "id": "c608a60a-614b-48cd-a56e-ce7dd92982df",
   "metadata": {
    "tags": []
   },
   "source": [
    "## Check that all packages import correctly"
   ]
  },
  {
   "cell_type": "markdown",
   "id": "7712752e-f783-4aca-b495-6a12f6a998ee",
   "metadata": {},
   "source": [
    "The following import statements load all of the packages that are required for the homeworks.  This cell should execute without any errors. "
   ]
  },
  {
   "cell_type": "code",
   "execution_count": 1,
   "id": "84adeec7-2501-45c2-a688-4f02a6a632c7",
   "metadata": {},
   "outputs": [],
   "source": [
    "# numpy and scipy. We usually import only submodules of scipy\n",
    "# since the whole package is big.\n",
    "import numpy as np\n",
    "from scipy import stats\n",
    "import scipy.integrate as integrate\n",
    "from scipy.special import erf\n",
    "\n",
    "# pandas: for working with structured data\n",
    "import pandas as pd\n",
    "\n",
    "# plotting packages.  matplotlib is the standard package for \n",
    "# plotting with numpy.  seaborn produces statistical plots.\n",
    "# arviz is used for plotting results from MCMC sampling.\n",
    "import matplotlib.pyplot as plt\n",
    "import seaborn as sns\n",
    "import arviz as az\n",
    "\n",
    "# Markov-chain Monte Carlo (MCMC) samplers.  pymc3 has several \n",
    "# dependencies that might take a little while to load. \n",
    "# emcee is another sampler that we will use for specific purposes.\n",
    "import pymc3 as pm\n",
    "import emcee"
   ]
  },
  {
   "cell_type": "markdown",
   "id": "f1e2b8de-7c76-4c71-a8cd-1846a664213f",
   "metadata": {},
   "source": [
    "If you get a warning that reads\n",
    "```\n",
    "WARNING (theano.tensor.blas): Using NumPy C-API based implementation for BLAS functions.\n",
    "```\n",
    "\n",
    "you can safely ignore it if the pymc3 section of this notebook executes properly (and doesn't take forever to run). "
   ]
  },
  {
   "cell_type": "markdown",
   "id": "650dc138-a8af-485d-914f-a274f5ab3334",
   "metadata": {},
   "source": [
    "If you've installed the environment for newer Macs running Apple Silicon (the M1 chip) you might get a warning that says\n",
    "```\n",
    "WARNING (theano.link.c.cmodule): install mkl with `conda install mkl-service`: No module named 'mkl'\n",
    "```\n",
    "You can ignore this warning if running `conda info` reports `platform: osx-arm64`.  If you get this warning in any other situation please let us know."
   ]
  },
  {
   "cell_type": "markdown",
   "id": "5545041d-82c4-4da0-ac5a-663339468dde",
   "metadata": {},
   "source": [
    "The code below checks the version of the `emcee` package.  It should output `2.2.1`.  This is the last version of the code that includes thermodynamic integration, which we use for model comparison:"
   ]
  },
  {
   "cell_type": "code",
   "execution_count": 2,
   "id": "1f2f8673-01e1-47b3-914c-5da2c892e797",
   "metadata": {},
   "outputs": [
    {
     "name": "stdout",
     "output_type": "stream",
     "text": [
      "2.2.1\n"
     ]
    }
   ],
   "source": [
    "print(emcee.__version__)"
   ]
  },
  {
   "cell_type": "markdown",
   "id": "3990c88c-5d31-4074-b6c4-b446128a195f",
   "metadata": {
    "tags": []
   },
   "source": [
    "## Test inline graphics"
   ]
  },
  {
   "cell_type": "markdown",
   "id": "33be1d13-4cea-4e57-923d-b9232e6f2460",
   "metadata": {},
   "source": [
    "Plots should display inline (directly below the cell you used) by default in all recent versions of python/matplotlib/jupyter. "
   ]
  },
  {
   "cell_type": "code",
   "execution_count": 3,
   "id": "b8e253ab-16da-4f60-9da8-6bce4452c0ce",
   "metadata": {},
   "outputs": [
    {
     "data": {
      "image/png": "[encoded data removed]",
      "text/plain": [
       "<Figure size 432x288 with 1 Axes>"
      ]
     },
     "metadata": {
      "needs_background": "light"
     },
     "output_type": "display_data"
    }
   ],
   "source": [
    "x = np.linspace(0,2*np.pi,100)\n",
    "y = np.exp(np.sin(x))\n",
    "plt.plot(x,y, '.')\n",
    "plt.xlabel('$x$')\n",
    "plt.ylabel('$e^{\\sin(x)}$');"
   ]
  },
  {
   "cell_type": "markdown",
   "id": "b46dc3e5-7ae7-4d68-b243-3d8f217528a1",
   "metadata": {},
   "source": [
    "If you didn't see a plot doesn't show up directly in your notebook (or a window popped up instead), run\n",
    "```\n",
    "%matplotlib inline\n",
    "```\n",
    "and try plotting again.  This line should not be needed, so if you do need to include it, please let us know so that we can figure out what went wrong."
   ]
  },
  {
   "cell_type": "markdown",
   "id": "3372c204-0db2-4ea1-aced-7ae7e1039e74",
   "metadata": {
    "tags": []
   },
   "source": [
    "## Testing `pymc3` for nonlinear fitting\n",
    "\n"
   ]
  },
  {
   "cell_type": "markdown",
   "id": "714b79d0-2e76-4cfa-9e13-d26382e2e544",
   "metadata": {},
   "source": [
    "The next cell contains some data that we'll use for testing.\n"
   ]
  },
  {
   "cell_type": "code",
   "execution_count": 4,
   "id": "8eba730b-cd83-42ba-be94-a2de86d828a9",
   "metadata": {},
   "outputs": [],
   "source": [
    "# Data from Gregory, Bayesian Logical Data Analysis for the \n",
    "# Physical Sciences (Cambridge University Press, 2010),\n",
    "# Table 11.1. Each voltage measurement has an\n",
    "# uncertainty of 0.3 voltage units.\n",
    "data11_1 = pd.DataFrame({ 'f': [1,1.17,1.34,1.51,1.68,1.85,2.02,2.19,2.36,\n",
    "                                2.53,2.7,2.87,3.04,3.21,3.38,3.55,3.72,3.89,\n",
    "                                4.06,4.23,4.4,4.57,4.74,4.91,5.08,5.25,5.42,\n",
    "                                5.59,5.76,5.93,6.1,6.27,6.44,6.61,6.78,6.95,\n",
    "                                7.12,7.29,7.46,7.63,7.8,7.97,8.14,8.31,8.48,\n",
    "                                8.65,8.82,8.99,9.16,9.33,9.5,9.67,9.84,10.01,\n",
    "                                10.18,10.35,10.52,10.69,10.86,11.03,11.2,\n",
    "                                11.37,11.54,11.71,11.88,12.05,12.22,12.39,\n",
    "                                12.56,12.73,12.9,13.07,13.24,13.41,13.58,\n",
    "                                13.75,13.92,14.09,14.26,14.43,14.6,14.77,\n",
    "                                14.94,15.11,15.28,15.45,15.62,15.79,15.96,\n",
    "                                16.13,16.3,16.47,16.64,16.81,16.98,17.15,\n",
    "                                17.32,17.49,17.66,17.83],\n",
    "                          'V': [1.391,1,0.552,1.249,0.534,1.386,0.971,0.901,\n",
    "                                0.851,1.334,0.549,1.373,0.997,1.231,1.586,2.244,\n",
    "                                1.914,2.467,2.609,3.036,3.581,4.073,5.01,4.989,\n",
    "                                4.94,5.537,6.091,6.163,5.365,5.916,5.53,4.552,\n",
    "                                3.833,3.756,3.055,3.009,2.855,2.357,2.732,1.836,\n",
    "                                1.918,1.534,2.238,2.623,2.275,2.408,2.701,2.659,\n",
    "                                3.224,2.237,3.113,3.293,3.139,2.84,3.119,3.311,\n",
    "                                4.347,4.819,4.378,4.544,4.562,5.662,4.479,5.373,\n",
    "                                4.883,4.678,5.1,3.868,4.132,3.702,3.267,3.323,\n",
    "                                3.413,2.762,2.418,2.038,2.585,2.492,2.193,1.866,\n",
    "                                1.571,1.779,1.542,1.562,1.666,0.904,1.074,1.53,\n",
    "                                0.747,0.945,1.301,1.323,0.919,1.32,0.915,0.814,\n",
    "                                0.983,1.158,0.917,1.355]})\n",
    "uncertainty = 0.3"
   ]
  },
  {
   "cell_type": "markdown",
   "id": "ea133e3d-018d-4838-8d9a-1e1383b775a7",
   "metadata": {},
   "source": [
    "The next cell sets up a statistical model in pymc3.  This cell could take a minute to run.  What's happening behind the scenes is that the code is getting compiled so that it can execute more quickly.  Again, don't worry if you don't understand all of this.  We need to test this process because what happens behind the scenes depends on your computer operating system (Windows, MacOS, Linux) and architecture (Intel or ARM processor).  If you get any errors, let us know, and we will investigate."
   ]
  },
  {
   "cell_type": "code",
   "execution_count": 5,
   "id": "631d1420-7768-47d8-babc-c255a550c2e6",
   "metadata": {},
   "outputs": [],
   "source": [
    "sigma_L = 1.0\n",
    "\n",
    "# reshape data so it behaves when pymc3 tests multiple parameter values at once\n",
    "x = data11_1['f'].values[:, np.newaxis]\n",
    "y = data11_1['V'].values[:, np.newaxis]\n",
    "\n",
    "peaks_model = pm.Model()\n",
    "with peaks_model:\n",
    "    \n",
    "    # Priors for unknown model parameters\n",
    "    A0 = pm.Flat('background')\n",
    "    A1 = pm.Flat('peak_height')\n",
    "    C1 = pm.Flat('peak_position')\n",
    "\n",
    "    # Expected value from theory\n",
    "    V = pm.Deterministic('prediction', A0 + A1 * np.exp(-(x - C1)**2 / (2 * sigma_L**2)))\n",
    "\n",
    "    # Likelihood of observations\n",
    "    measurements = pm.Normal('voltage', mu=V, sigma=uncertainty, observed=y)"
   ]
  },
  {
   "cell_type": "markdown",
   "id": "1661951e-f458-4cd7-a11f-c7ea60b11379",
   "metadata": {},
   "source": [
    "If the cell above executed without any errors, the next one should work as well.  It may also take a few seconds to run.  A progress bar should appear below the cell."
   ]
  },
  {
   "cell_type": "code",
   "execution_count": 6,
   "id": "07194f4d-116b-40c9-be3b-c6643159c2f3",
   "metadata": {},
   "outputs": [
    {
     "data": {
      "text/html": [
       "\n",
       "    <div>\n",
       "        <style>\n",
       "            /* Turns off some styling */\n",
       "            progress {\n",
       "                /* gets rid of default border in Firefox and Opera. */\n",
       "                border: none;\n",
       "                /* Needs to be in here for Safari polyfill so background images work as expected. */\n",
       "                background-size: auto;\n",
       "            }\n",
       "            .progress-bar-interrupted, .progress-bar-interrupted::-webkit-progress-bar {\n",
       "                background: #F44336;\n",
       "            }\n",
       "        </style>\n",
       "      <progress value='11' class='' max='11' style='width:300px; height:20px; vertical-align: middle;'></progress>\n",
       "      100.00% [11/11 00:00<00:00 logp = -792.69, ||grad|| = 4.7513e-05]\n",
       "    </div>\n",
       "    "
      ],
      "text/plain": [
       "<IPython.core.display.HTML object>"
      ]
     },
     "metadata": {},
     "output_type": "display_data"
    },
    {
     "name": "stdout",
     "output_type": "stream",
     "text": [
      "\n",
      "[[ 0.05534292 -0.07771911 -0.04855077]\n",
      " [-0.07771911  0.15561616  0.06354062]\n",
      " [-0.04855077  0.06354062  0.05092233]]\n"
     ]
    }
   ],
   "source": [
    "initial_guess = {'background':0, 'peak_height':1, 'peak_position':5}\n",
    "best_fit, scipy_output = pm.find_MAP(model=peaks_model, start = initial_guess, return_raw=True)\n",
    "covariance_matrix = np.flip(scipy_output.hess_inv.todense()/uncertainty)\n",
    "print(covariance_matrix)"
   ]
  },
  {
   "cell_type": "markdown",
   "id": "e23ffd87-45e4-40d0-906a-25ff29508b2c",
   "metadata": {},
   "source": [
    "If everything worked, when you execute the next cell you should see a plot of the data in blue and a Gaussian function (in black) that lines up with the first peak in the data."
   ]
  },
  {
   "cell_type": "code",
   "execution_count": 7,
   "id": "1b4519d3-b1fb-4bc6-a505-e93fb7a2470e",
   "metadata": {},
   "outputs": [
    {
     "data": {
      "image/png": "[encoded data removed]",
      "text/plain": [
       "<Figure size 432x288 with 1 Axes>"
      ]
     },
     "metadata": {
      "needs_background": "light"
     },
     "output_type": "display_data"
    }
   ],
   "source": [
    "data11_1.plot(x='f', y='V', kind='scatter', yerr=uncertainty)\n",
    "plt.plot(x, best_fit['prediction'], '-k');"
   ]
  },
  {
   "cell_type": "markdown",
   "id": "0cef5ab9-25d6-4c3a-9e10-de92bd5a3adb",
   "metadata": {
    "tags": []
   },
   "source": [
    "## Testing `emcee`"
   ]
  },
  {
   "cell_type": "markdown",
   "id": "4b73f16c-e9e0-4441-9ced-7182409f449a",
   "metadata": {},
   "source": [
    "The next few cells set up a linear fit.  Execute them all in order."
   ]
  },
  {
   "cell_type": "code",
   "execution_count": 8,
   "id": "83a7233c-ef13-4abd-b649-fbc00d553163",
   "metadata": {
    "tags": []
   },
   "outputs": [],
   "source": [
    "# Data for linear fit from Hogg, Bovy, Lang. \"Data Analysis Recipes: \n",
    "# Fitting a Model to Data.\" ArXiv:1008.4686, 2010. \n",
    "# http://arxiv.org/abs/1008.4686\n",
    "\n",
    "dataHBL = pd.DataFrame({ 'x': [201, 244, 47, 287, 203, 58, 210, 202, 198, 158,\n",
    "                               165, 201, 157, 131, 166, 160, 186, 125, 218, 146],\n",
    "                         'y': [592, 401, 583, 402, 495, 173, 479, 504, 510, 416,\n",
    "                               393, 442, 317, 311, 400, 337, 423, 334, 533, 344],\n",
    "                         'sigma_y': [61, 25, 38, 15, 21, 15, 27, 14, 30, 16,\n",
    "                                     14, 25, 52, 16, 34, 31, 42, 26, 16, 22],\n",
    "                         'sigma_x': [9, 4, 11, 7, 5, 9, 4, 4, 11, 7,\n",
    "                                     5, 5, 5, 6, 6, 5, 9, 8, 6, 5],\n",
    "                         'rho_xy': [-0.84, 0.31, 0.64, -0.27, -0.33, 0.67, -0.02, -0.05, -0.84, -0.69,\n",
    "                                    0.30, -0.46, -0.03, 0.50, 0.73, -0.52, 0.90, 0.40, -0.78, -0.56]})"
   ]
  },
  {
   "cell_type": "code",
   "execution_count": 9,
   "id": "36192283-1175-4a23-8c9b-155cfa7c6067",
   "metadata": {},
   "outputs": [],
   "source": [
    "x = dataHBL['x'][4:]\n",
    "y = dataHBL['y'][4:]\n",
    "sigma_y = dataHBL['sigma_y'][4:]"
   ]
  },
  {
   "cell_type": "code",
   "execution_count": 10,
   "id": "451c2208-a942-4e03-8a9f-415a2b0959c9",
   "metadata": {},
   "outputs": [],
   "source": [
    "def log_prior(theta):\n",
    "    \"\"\"\n",
    "    returns log of prior probability distribution\n",
    "    \n",
    "    Parameters:\n",
    "        theta: model parameters (specified as a tuple)\n",
    "    \"\"\"\n",
    "    # unpack the model parameters\n",
    "    m, b = theta\n",
    "  \n",
    "    # we don't have to explicitly normalize our prior\n",
    "    return 0\n",
    "    \n",
    "def log_likelihood(theta, x, y, sigma_y):\n",
    "    \"\"\"\n",
    "    returns log of likelihood\n",
    "    \n",
    "    Parameters:\n",
    "        theta: model parameters (specified as a tuple)\n",
    "        x: independent data (array of length N)\n",
    "        y: measurements (array of length N)\n",
    "        sigma_y: uncertainties on y (array of length N)\n",
    "    \"\"\"\n",
    "    m, b = theta\n",
    "    residual = (y - m*x - b)**2\n",
    "    chi_square = np.sum(residual/(sigma_y**2))\n",
    "    constant = np.sum(np.log(1/np.sqrt(2.0*np.pi*sigma_y**2)))\n",
    "    return constant - 0.5*chi_square\n",
    "\n",
    "def log_posterior(theta, x, y, sigma_y):\n",
    "    \"\"\"\n",
    "    returns log of posterior probability distribution\n",
    "    \n",
    "    Parameters:\n",
    "        theta: model parameters (specified as a tuple)\n",
    "        x: independent data (array of length N)\n",
    "        y: measurements (array of length N)\n",
    "        sigma_y: uncertainties on y (array of length N)\n",
    "    \"\"\"\n",
    "    m, b = theta\n",
    "    return log_prior(theta) + log_likelihood(theta, x, y, sigma_y)"
   ]
  },
  {
   "cell_type": "code",
   "execution_count": 11,
   "id": "71361cef-601a-435e-8206-dd319565f92e",
   "metadata": {},
   "outputs": [],
   "source": [
    "# the model has 2 parameters; we'll use 50 walkers and 500 steps each\n",
    "ndim = 2\n",
    "nwalkers = 50\n",
    "nsteps = 500\n",
    "\n",
    "ls_result = [2.24, 34] # from HBL figure 1\n",
    "gaussian_ball = 1e-4 * np.random.randn(nwalkers, ndim)\n",
    "starting_positions = (1 + gaussian_ball) * ls_result"
   ]
  },
  {
   "cell_type": "markdown",
   "id": "32f71d50-801d-4fe4-b035-c9a6a7910834",
   "metadata": {},
   "source": [
    "The following cell starts the sampler to do the fit.  Sampling should take not take too much longer than a minute.  The total time will depend on how fast your computer is and what else is running on it."
   ]
  },
  {
   "cell_type": "code",
   "execution_count": 12,
   "id": "80fbd846-e7ae-4193-8625-7c2d899be211",
   "metadata": {},
   "outputs": [
    {
     "name": "stdout",
     "output_type": "stream",
     "text": [
      "CPU times: user 12.4 s, sys: 58.4 ms, total: 12.5 s\n",
      "Wall time: 12.2 s\n",
      "Done\n"
     ]
    }
   ],
   "source": [
    "# set up the sampler object\n",
    "sampler = emcee.EnsembleSampler(nwalkers, ndim, log_posterior, \n",
    "                                args=(x, y, sigma_y))\n",
    "# run the sampler. We use iPython's %time directive to tell us \n",
    "# how long it took (in a script, you would leave out \"%time\")\n",
    "%time sampler.run_mcmc(starting_positions, nsteps)\n",
    "print('Done')"
   ]
  },
  {
   "cell_type": "code",
   "execution_count": 13,
   "id": "ade5731d-2550-40ab-9e51-6ec2a583588d",
   "metadata": {},
   "outputs": [],
   "source": [
    "samples = sampler.chain[:,100:,:]\n",
    "# reshape the samples into a 1D array where the colums are m and b\n",
    "traces = samples.reshape(-1, ndim).T\n",
    "# create a pandas DataFrame with labels.  This will come in handy \n",
    "# in a moment, when we start using seaborn to plot our results \n",
    "# (among other things, it saves us the trouble of typing in labels\n",
    "# for our plots)\n",
    "parameter_samples = pd.DataFrame({'m': traces[0], 'b': traces[1]})"
   ]
  },
  {
   "cell_type": "code",
   "execution_count": 14,
   "id": "19cb680e-0630-4ce0-895f-f71d10cff968",
   "metadata": {},
   "outputs": [
    {
     "data": {
      "image/png": "[encoded data removed]",
      "text/plain": [
       "<Figure size 360x360 with 6 Axes>"
      ]
     },
     "metadata": {
      "needs_background": "light"
     },
     "output_type": "display_data"
    }
   ],
   "source": [
    "sns.pairplot(parameter_samples, markers='.');"
   ]
  },
  {
   "cell_type": "markdown",
   "id": "bff86fc1-e7d3-4117-973e-19b70fb518b2",
   "metadata": {},
   "source": [
    "Results from executing the next cell should be close to\n",
    "$$ m = 2.24 \\pm 0.11 $$\n",
    "$$ b = 34 \\pm 18 $$"
   ]
  },
  {
   "cell_type": "code",
   "execution_count": 15,
   "id": "f5e93890-fb1e-4945-bbbe-7277df7d7383",
   "metadata": {},
   "outputs": [
    {
     "name": "stdout",
     "output_type": "stream",
     "text": [
      "m = 2.24 + 0.10 - 0.10\n",
      "b = 33.7 + 17.8 - 17.8\n"
     ]
    }
   ],
   "source": [
    "# calculating the MAP and values can be done concisely using pandas\n",
    "q = parameter_samples.quantile([0.16,0.50,0.84], axis=0)\n",
    "\n",
    "print(\"m = {:.2f} + {:.2f} - {:.2f}\".format(q['m'][0.50], \n",
    "                                            q['m'][0.84]-q['m'][0.50],\n",
    "                                            q['m'][0.50]-q['m'][0.16]))\n",
    "print(\"b = {:.1f} + {:.1f} - {:.1f}\".format(q['b'][0.50], \n",
    "                                            q['b'][0.84]-q['b'][0.50],\n",
    "                                            q['b'][0.50]-q['b'][0.16]))"
   ]
  },
  {
   "cell_type": "markdown",
   "id": "d7d5eca4-bae2-4f32-ade3-fc07a6995136",
   "metadata": {
    "tags": []
   },
   "source": [
    "## Testing NUTS sampling in `pymc3`"
   ]
  },
  {
   "cell_type": "markdown",
   "id": "66abcdd8-c368-4368-aae7-f4b693e77104",
   "metadata": {},
   "source": [
    "Now we'll test pymc3 again, this time using its powerful NUTS sampler.  Again, it should take a few seconds to execute the next cell.  Behind the scenes, the code is getting compiled."
   ]
  },
  {
   "cell_type": "code",
   "execution_count": 16,
   "id": "cb3853a9-f0bc-45f3-81ac-6a0ac233a188",
   "metadata": {},
   "outputs": [],
   "source": [
    "x = dataHBL['x'][4:]\n",
    "y = dataHBL['y'][4:]\n",
    "sigma_y = dataHBL['sigma_y'][4:]"
   ]
  },
  {
   "cell_type": "code",
   "execution_count": 17,
   "id": "830f320e-c95c-44b6-98b3-bcbc10804488",
   "metadata": {},
   "outputs": [],
   "source": [
    "linear_model = pm.Model()\n",
    "\n",
    "with linear_model:\n",
    "\n",
    "    # For the prior, I'll use a uniform (improper) prior on both m and b.\n",
    "    # You can choose from several other distributions for the prior;\n",
    "    # see \n",
    "    m = pm.Flat('m') \n",
    "    b = pm.Flat('b')\n",
    "\n",
    "    # Now I need to define the linear model.  \"mu\" is the expected value\n",
    "    # from the model\n",
    "    mu = m*x + b\n",
    "\n",
    "    # Finally, I define the likelihood (sampling distribution) of the observations\n",
    "    # I have to use sigma_y.values here because PyMC3 can't handle\n",
    "    # a pandas Series object here, only a numpy array\n",
    "    y_obs = pm.Normal('y_obs', mu=mu, sd=sigma_y.values, observed=y)"
   ]
  },
  {
   "cell_type": "markdown",
   "id": "33e6419f-0133-419c-adf8-a56db0e2b48b",
   "metadata": {},
   "source": [
    "The following cell will test whether pymc3 can output a graphical representation of its model.  This tests whether python-graphviz is installed and working correctly.  If this doesn't work, it's not a dealbreaker."
   ]
  },
  {
   "cell_type": "code",
   "execution_count": 18,
   "id": "0b665174-4617-4aac-8e59-e86c2ea256d5",
   "metadata": {},
   "outputs": [
    {
     "data": {
      "image/svg+xml": [
       "<?xml version=\"1.0\" encoding=\"UTF-8\" standalone=\"no\"?>\n",
       "<!DOCTYPE svg PUBLIC \"-//W3C//DTD SVG 1.1//EN\"\n",
       " \"http://www.w3.org/Graphics/SVG/1.1/DTD/svg11.dtd\">\n",
       "<!-- Generated by graphviz version 2.50.0 (0)\n",
       " -->\n",
       "<!-- Pages: 1 -->\n",
       "<svg width=\"134pt\" height=\"233pt\"\n",
       " viewBox=\"0.00 0.00 134.00 232.91\" xmlns=\"http://www.w3.org/2000/svg\" xmlns:xlink=\"http://www.w3.org/1999/xlink\">\n",
       "<g id=\"graph0\" class=\"graph\" transform=\"scale(1 1) rotate(0) translate(4 228.91)\">\n",
       "<polygon fill=\"white\" stroke=\"transparent\" points=\"-4,4 -4,-228.91 130,-228.91 130,4 -4,4\"/>\n",
       "<g id=\"clust1\" class=\"cluster\">\n",
       "<title>cluster16</title>\n",
       "<path fill=\"none\" stroke=\"black\" d=\"M25,-8C25,-8 101,-8 101,-8 107,-8 113,-14 113,-20 113,-20 113,-109.95 113,-109.95 113,-115.95 107,-121.95 101,-121.95 101,-121.95 25,-121.95 25,-121.95 19,-121.95 13,-115.95 13,-109.95 13,-109.95 13,-20 13,-20 13,-14 19,-8 25,-8\"/>\n",
       "<text text-anchor=\"middle\" x=\"97.5\" y=\"-15.8\" font-family=\"Times,serif\" font-size=\"14.00\">16</text>\n",
       "</g>\n",
       "<!-- m -->\n",
       "<g id=\"node1\" class=\"node\">\n",
       "<title>m</title>\n",
       "<ellipse fill=\"none\" stroke=\"black\" cx=\"27\" cy=\"-187.43\" rx=\"27\" ry=\"37.45\"/>\n",
       "<text text-anchor=\"middle\" x=\"27\" y=\"-198.73\" font-family=\"Times,serif\" font-size=\"14.00\">m</text>\n",
       "<text text-anchor=\"middle\" x=\"27\" y=\"-183.73\" font-family=\"Times,serif\" font-size=\"14.00\">~</text>\n",
       "<text text-anchor=\"middle\" x=\"27\" y=\"-168.73\" font-family=\"Times,serif\" font-size=\"14.00\">Flat</text>\n",
       "</g>\n",
       "<!-- y_obs -->\n",
       "<g id=\"node3\" class=\"node\">\n",
       "<title>y_obs</title>\n",
       "<ellipse fill=\"lightgrey\" stroke=\"black\" cx=\"63\" cy=\"-76.48\" rx=\"41.94\" ry=\"37.45\"/>\n",
       "<text text-anchor=\"middle\" x=\"63\" y=\"-87.78\" font-family=\"Times,serif\" font-size=\"14.00\">y_obs</text>\n",
       "<text text-anchor=\"middle\" x=\"63\" y=\"-72.78\" font-family=\"Times,serif\" font-size=\"14.00\">~</text>\n",
       "<text text-anchor=\"middle\" x=\"63\" y=\"-57.78\" font-family=\"Times,serif\" font-size=\"14.00\">Normal</text>\n",
       "</g>\n",
       "<!-- m&#45;&gt;y_obs -->\n",
       "<g id=\"edge1\" class=\"edge\">\n",
       "<title>m&#45;&gt;y_obs</title>\n",
       "<path fill=\"none\" stroke=\"black\" d=\"M38,-153.15C41.19,-143.47 44.74,-132.74 48.13,-122.48\"/>\n",
       "<polygon fill=\"black\" stroke=\"black\" points=\"51.51,-123.42 51.32,-112.82 44.86,-121.22 51.51,-123.42\"/>\n",
       "</g>\n",
       "<!-- b -->\n",
       "<g id=\"node2\" class=\"node\">\n",
       "<title>b</title>\n",
       "<ellipse fill=\"none\" stroke=\"black\" cx=\"99\" cy=\"-187.43\" rx=\"27\" ry=\"37.45\"/>\n",
       "<text text-anchor=\"middle\" x=\"99\" y=\"-198.73\" font-family=\"Times,serif\" font-size=\"14.00\">b</text>\n",
       "<text text-anchor=\"middle\" x=\"99\" y=\"-183.73\" font-family=\"Times,serif\" font-size=\"14.00\">~</text>\n",
       "<text text-anchor=\"middle\" x=\"99\" y=\"-168.73\" font-family=\"Times,serif\" font-size=\"14.00\">Flat</text>\n",
       "</g>\n",
       "<!-- b&#45;&gt;y_obs -->\n",
       "<g id=\"edge2\" class=\"edge\">\n",
       "<title>b&#45;&gt;y_obs</title>\n",
       "<path fill=\"none\" stroke=\"black\" d=\"M88,-153.15C84.81,-143.47 81.26,-132.74 77.87,-122.48\"/>\n",
       "<polygon fill=\"black\" stroke=\"black\" points=\"81.14,-121.22 74.68,-112.82 74.49,-123.42 81.14,-121.22\"/>\n",
       "</g>\n",
       "</g>\n",
       "</svg>\n"
      ],
      "text/plain": [
       "<graphviz.graphs.Digraph at 0x16e64ee50>"
      ]
     },
     "execution_count": 18,
     "metadata": {},
     "output_type": "execute_result"
    }
   ],
   "source": [
    "pm.model_to_graphviz(linear_model)"
   ]
  },
  {
   "cell_type": "markdown",
   "id": "01d949e0-474e-47e4-86f1-5936f8f6f314",
   "metadata": {},
   "source": [
    "Running the following cell starts the sampler.  It should take a minute or less to sample.  You might get a warning saying &ldquo;The acceptance probability does not match the target&rdquo; and/or &ldquo;The number of effective samples is smaller than 25% for some parameters.&rdquo; You can ignore these warnings."
   ]
  },
  {
   "cell_type": "code",
   "execution_count": 19,
   "id": "5757dbc8-5074-4245-a837-61dabf51d951",
   "metadata": {},
   "outputs": [
    {
     "name": "stderr",
     "output_type": "stream",
     "text": [
      "Auto-assigning NUTS sampler...\n",
      "Initializing NUTS using jitter+adapt_diag...\n",
      "Multiprocess sampling (4 chains in 4 jobs)\n",
      "NUTS: [b, m]\n"
     ]
    },
    {
     "data": {
      "text/html": [
       "\n",
       "    <div>\n",
       "        <style>\n",
       "            /* Turns off some styling */\n",
       "            progress {\n",
       "                /* gets rid of default border in Firefox and Opera. */\n",
       "                border: none;\n",
       "                /* Needs to be in here for Safari polyfill so background images work as expected. */\n",
       "                background-size: auto;\n",
       "            }\n",
       "            .progress-bar-interrupted, .progress-bar-interrupted::-webkit-progress-bar {\n",
       "                background: #F44336;\n",
       "            }\n",
       "        </style>\n",
       "      <progress value='24000' class='' max='24000' style='width:300px; height:20px; vertical-align: middle;'></progress>\n",
       "      100.00% [24000/24000 00:05<00:00 Sampling 4 chains, 0 divergences]\n",
       "    </div>\n",
       "    "
      ],
      "text/plain": [
       "<IPython.core.display.HTML object>"
      ]
     },
     "metadata": {},
     "output_type": "display_data"
    },
    {
     "name": "stderr",
     "output_type": "stream",
     "text": [
      "Sampling 4 chains for 1_000 tune and 5_000 draw iterations (4_000 + 20_000 draws total) took 18 seconds.\n",
      "The acceptance probability does not match the target. It is 0.8885110022592908, but should be close to 0.8. Try to increase the number of tuning steps.\n",
      "The number of effective samples is smaller than 25% for some parameters.\n"
     ]
    }
   ],
   "source": [
    "with linear_model:\n",
    "    trace = pm.sample(5000, return_inferencedata=False)"
   ]
  },
  {
   "cell_type": "code",
   "execution_count": 20,
   "id": "cb3a083c-9385-47be-bab3-c50780e63080",
   "metadata": {},
   "outputs": [],
   "source": [
    "df_trace = pm.trace_to_dataframe(trace)"
   ]
  },
  {
   "cell_type": "markdown",
   "id": "9989f12d-fb54-4720-b9af-6abe14a6bded",
   "metadata": {},
   "source": [
    "The plot produced by the following cell should look similar to the one produced by `emcee` in the previous section."
   ]
  },
  {
   "cell_type": "code",
   "execution_count": 21,
   "id": "4cfde9f5-1aff-49b3-8c0e-67e50699695d",
   "metadata": {},
   "outputs": [
    {
     "data": {
      "image/png": "[encoded data removed]",
      "text/plain": [
       "<Figure size 360x360 with 6 Axes>"
      ]
     },
     "metadata": {
      "needs_background": "light"
     },
     "output_type": "display_data"
    }
   ],
   "source": [
    "sns.pairplot(df_trace, markers='.');"
   ]
  },
  {
   "cell_type": "markdown",
   "id": "5eb5feca-18bf-449a-83a6-d99fedc4b0bf",
   "metadata": {},
   "source": [
    "Again, results should be close to\n",
    "$$ m = 2.24 \\pm 0.11 $$\n",
    "$$ b = 34 \\pm 18 $$"
   ]
  },
  {
   "cell_type": "code",
   "execution_count": 22,
   "id": "3a7e68cc-5489-4a9b-8d3a-f75973a024e1",
   "metadata": {},
   "outputs": [
    {
     "name": "stdout",
     "output_type": "stream",
     "text": [
      "m = 2.24 + 0.11 - 0.11\n",
      "b = 33.9 + 18.3 - 18.3\n"
     ]
    }
   ],
   "source": [
    "q = df_trace.quantile([0.16,0.50,0.84], axis=0)\n",
    "print(\"m = {:.2f} + {:.2f} - {:.2f}\".format(q['m'][0.50], \n",
    "                                            q['m'][0.84]-q['m'][0.50],\n",
    "                                            q['m'][0.50]-q['m'][0.16]))\n",
    "print(\"b = {:.1f} + {:.1f} - {:.1f}\".format(q['b'][0.50], \n",
    "                                            q['b'][0.84]-q['b'][0.50],\n",
    "                                            q['b'][0.50]-q['b'][0.16]))"
   ]
  },
  {
   "cell_type": "markdown",
   "id": "78a18789-a5c4-46cd-ae2a-fc0d62267b14",
   "metadata": {},
   "source": [
    "## Next steps\n",
    "\n",
    "If all the cells executed OK, you are all set for the rest of the course (at least until the final project)!  If not, report any errors to the course staff or file an issue on GitHub."
   ]
  }
 ],
 "metadata": {
  "kernelspec": {
   "display_name": "Python 3 (ipykernel)",
   "language": "python",
   "name": "python3"
  },
  "language_info": {
   "codemirror_mode": {
    "name": "ipython",
    "version": 3
   },
   "file_extension": ".py",
   "mimetype": "text/x-python",
   "name": "python",
   "nbconvert_exporter": "python",
   "pygments_lexer": "ipython3",
   "version": "3.9.9"
  }
 },
 "nbformat": 4,
 "nbformat_minor": 5
}
